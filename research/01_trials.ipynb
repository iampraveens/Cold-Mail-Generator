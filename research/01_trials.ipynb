{
 "cells": [
  {
   "cell_type": "code",
   "execution_count": 55,
   "metadata": {},
   "outputs": [],
   "source": [
    "import os\n",
    "from dotenv import load_dotenv\n",
    "from langchain_groq import ChatGroq\n",
    "from langchain_community.document_loaders import WebBaseLoader\n",
    "from langchain_core.prompts import PromptTemplate\n",
    "from langchain_core.output_parsers import JsonOutputParser\n",
    "import chromadb"
   ]
  },
  {
   "cell_type": "code",
   "execution_count": 2,
   "metadata": {},
   "outputs": [
    {
     "data": {
      "text/plain": [
       "True"
      ]
     },
     "execution_count": 2,
     "metadata": {},
     "output_type": "execute_result"
    }
   ],
   "source": [
    "load_dotenv()"
   ]
  },
  {
   "cell_type": "code",
   "execution_count": 3,
   "metadata": {},
   "outputs": [],
   "source": [
    "GROQ_API_KEY = os.environ.get(\"GROQ_API_KEY\")"
   ]
  },
  {
   "cell_type": "code",
   "execution_count": 4,
   "metadata": {},
   "outputs": [],
   "source": [
    "llm = ChatGroq(\n",
    "    temperature=0,\n",
    "    model=\"mixtral-8x7b-32768\",\n",
    "    api_key=GROQ_API_KEY\n",
    ")"
   ]
  },
  {
   "cell_type": "code",
   "execution_count": 7,
   "metadata": {},
   "outputs": [],
   "source": [
    "response = llm.invoke(input=\"Create a python code to sum the numbers some two numbers\")"
   ]
  },
  {
   "cell_type": "code",
   "execution_count": 8,
   "metadata": {},
   "outputs": [
    {
     "name": "stdout",
     "output_type": "stream",
     "text": [
      "Here is a simple Python code to sum two numbers:\n",
      "\n",
      "```python\n",
      "# Function to add two numbers\n",
      "def add_two_numbers(num1, num2):\n",
      "  return num1 + num2\n",
      "\n",
      "# Take input from user\n",
      "num1 = float(input(\"Enter first number: \"))\n",
      "num2 = float(input(\"Enter second number: \"))\n",
      "\n",
      "# Call the function to add two numbers\n",
      "sum = add_two_numbers(num1, num2)\n",
      "\n",
      "# Print the sum\n",
      "print(\"The sum of {0} and {1} is {2}\".format(num1, num2, sum))\n",
      "```\n",
      "\n",
      "In this code, we define a function `add_two_numbers` that takes two arguments and returns their sum. We then take input from the user for two numbers, call the function to add them, and print the result.\n"
     ]
    }
   ],
   "source": [
    "print(response.content)"
   ]
  },
  {
   "cell_type": "code",
   "execution_count": 9,
   "metadata": {},
   "outputs": [],
   "source": [
    "chroma_client = chromadb.Client()"
   ]
  },
  {
   "cell_type": "code",
   "execution_count": 10,
   "metadata": {},
   "outputs": [],
   "source": [
    "collection = chroma_client.get_or_create_collection(\n",
    "    name=\"my_collection\"\n",
    ")"
   ]
  },
  {
   "cell_type": "code",
   "execution_count": 11,
   "metadata": {},
   "outputs": [],
   "source": [
    "collection.upsert(\n",
    "    documents=[\n",
    "        \"This is a document about pineapple\",\n",
    "        \"This is a document about oranges\"\n",
    "    ],\n",
    "    ids=[\"id1\", \"id2\" ]\n",
    ")"
   ]
  },
  {
   "cell_type": "code",
   "execution_count": 12,
   "metadata": {},
   "outputs": [
    {
     "data": {
      "text/plain": [
       "{'ids': ['id1', 'id2'],\n",
       " 'embeddings': None,\n",
       " 'metadatas': [None, None],\n",
       " 'documents': ['This is a document about pineapple',\n",
       "  'This is a document about oranges'],\n",
       " 'uris': None,\n",
       " 'data': None,\n",
       " 'included': ['metadatas', 'documents']}"
      ]
     },
     "execution_count": 12,
     "metadata": {},
     "output_type": "execute_result"
    }
   ],
   "source": [
    "all_docs = collection.get()\n",
    "all_docs"
   ]
  },
  {
   "cell_type": "code",
   "execution_count": 13,
   "metadata": {},
   "outputs": [],
   "source": [
    "results = collection.query(query_texts=\"This is the query document about Assam\",\n",
    "                           n_results=2)"
   ]
  },
  {
   "cell_type": "code",
   "execution_count": 14,
   "metadata": {},
   "outputs": [
    {
     "data": {
      "text/plain": [
       "{'ids': [['id1', 'id2']],\n",
       " 'distances': [[1.4745726585388184, 1.6186896562576294]],\n",
       " 'metadatas': [[None, None]],\n",
       " 'embeddings': None,\n",
       " 'documents': [['This is a document about pineapple',\n",
       "   'This is a document about oranges']],\n",
       " 'uris': None,\n",
       " 'data': None,\n",
       " 'included': ['metadatas', 'documents', 'distances']}"
      ]
     },
     "execution_count": 14,
     "metadata": {},
     "output_type": "execute_result"
    }
   ],
   "source": [
    "results"
   ]
  },
  {
   "cell_type": "code",
   "execution_count": 74,
   "metadata": {},
   "outputs": [],
   "source": [
    "loader = WebBaseLoader(\"https://jobs.nike.com/job/R-39879\")"
   ]
  },
  {
   "cell_type": "code",
   "execution_count": 75,
   "metadata": {},
   "outputs": [],
   "source": [
    "page_data = loader.load().pop().page_content"
   ]
  },
  {
   "cell_type": "code",
   "execution_count": 76,
   "metadata": {},
   "outputs": [
    {
     "name": "stdout",
     "output_type": "stream",
     "text": [
      "Apply for Machine Learning Engineer - Supply Chain\n",
      "\n",
      "Search JobsSkip navigationSearch JobsNIKE, INC. JOBSContract JobsJoin The Talent CommunityLife @ NikeOverviewBenefitsBrandsOverviewJordanConverseTeamsOverviewAdministrative SupportAdvanced InnovationAir Manufacturing InnovationAviationCommunicationsCustomer ServiceDesignDigitalFacilitiesFinance & AccountingGovernment & Public AffairsHuman ResourcesInsights & AnalyticsLegalManufacturing & EngineeringMarketingMerchandisingPlanningPrivacyProcurementProduct Creation, Development & ManagementRetail CorporateRetail StoresSalesSocial & Community ImpactSports MarketingStrategic PlanningSupply Chain, Distribution & LogisticsSustainabilityTechnologyLocationsOverviewNike WHQNike New York HQEHQ: Hilversum, The NetherlandsELC: Laakdal, BelgiumGreater China HQDiversity, Equity & InclusionOverviewMilitary InclusionDisability InclusionIndigenous InclusionInternshipsData & AnalyticsMachine Learning Engineer - Supply ChainBeaverton, OregonBecome a Part of the NIKE, Inc. Team\n",
      "NIKE, Inc. does more than outfit the world’s best athletes. It is a place to explore potential, obliterate boundaries and push out the edges of what can be. The company looks for people who can grow, think, dream and create. Its culture thrives by embracing diversity and rewarding imagination. The brand seeks achievers, leaders and visionaries. At NIKE, Inc. it’s about each person bringing skills and passion to a challenging and constantly evolving game.Open to remote work except in South Dakota, Vermont and West Virginia.The annual base salary for this position ranges from $82,900.00 in our lowest geographic market to $185,700.00 in our highest geographic market. Actual salary will vary based on a candidate's location, qualifications, skills and experience.Information about benefits can be found here. This posting is for two positions within the Enterprise AI/ML function.WHO ARE WE LOOKING FORWe seek passionate engineers to join our team!  As a Machine Learning Engineer, you will develop robust advanced analytics and machine learning solutions that have a direct impact on the Supply Chain infrastructure.  You should have experience in Python; a strong background in algorithms and data structures; hands-on AWS experience; as well as experience in database technology (e.g. Postgres, Redis) and data processing technology (e.g. EMR).  You should also have a demonstrable history of team leadership and value delivery, and be comfortable working in an agile product model.  As a ML Engineer, you will be expected to own projects end-to-end - from conception to operationalization, demonstrating an understanding of the full software development lifecycle.  As a result, you will be expected to provide technical vision and guidance to your teammates; therefore, strong communication skills are critical in this role. WHAT WILL YOU WORK ONIf this is you, you’ll be working with the Artificial Intelligence and Machine Learning (AI/ML) team at Nike.  With teammates in Portland, Boston, and Poland, you’ll be joining a global organization working to solve machine learning problems at scale.  You’ll be designing and implementing scalable applications that leverage prediction models and optimization programs to deliver data driven decisions that result in immense business impact.  You’ll also contribute to core advanced analytics and machine learning platforms and tools to enable both prediction and optimization model development.  You thrive when surrounded by talented colleagues and aim to never stop learning. We are looking for candidates who enjoy a collaborative and academic environment where we develop and share new skills, mentor, and contribute knowledge and software back to the analytics and engineering communities both within Nike and at-large.We value and nurture our culture by seeking to always be collaborative, intellectually curious, fun, open, and diverse.WHO WILL YOU WORK WITHIn this role, you’ll be working closely with the rest of our global team, along with commercial and consumer analytics, and enterprise architecture teams. You will report to the director of Supply Chain AI/ML Engineering.WHAT YOU BRING Bachelor's degree in Computer Science, or combination of relevant education, experience.1-3 years of professional experience in software engineering, data engineering, machine learning, or related fieldA demonstrated problem solving and analytical mindsetAbility to write robust, maintainable, and extendable code in Python; containerized in Docker, and automated with CI/CDExperience with agile development and test driven developmentUnderstanding of data structures, data modeling and software architectureExperience with data sets, ETL pipelines, SQL, and general data engineeringExposure to MLOps, API development, or mathematical optimization are highly desirableExperience with cloud architecture and technologies, in particular Amazon Web ServicesExperience with technologies like Spark, Kubernetes, Docker, Jenkins, Databricks, Terraform is also highly desirableEffective communication skills (with team members, the business, and in code)NIKE, Inc. is a growth company that looks for team members to grow with it. Nike offers a generous total rewards package, casual work environment, a diverse and inclusive culture, and an electric atmosphere for professional development. No matter the location, or the role, every Nike employee shares one galvanizing mission: To bring inspiration and innovation to every athlete* in the world.NIKE, Inc. is committed to employing a diverse workforce. Qualified applicants will receive consideration without regard to race, color, religion, sex, national origin, age, sexual orientation, gender identity, gender expression, veteran status, or disability.How We HireAt NIKE, Inc. we promise to provide a premium, inclusive, compelling and authentic candidate experience. Delivering on this promise means we allow you to be at your best — and to do that, you need to understand how the hiring process works. Transparency is key.\n",
      "\n",
      "* This overview explains our hiring process for corporate roles. Note there may be different hiring steps involved for non-corporate roles.Start nowBenefitsWhether it’s transportation or financial health, we continually invest in our employees to help them achieve greatness — inside and outside of work. All who work here should be able to realize their full potential.Employee Assistance ProgramEmployee Stock Purchase Plan (ESPP)HolidaysMedical PlanPaid Time Off (PTO)Product DiscountsSabbaticalsLearn moreFIND A STOREBECOME A MEMBERSIGN UP FOR EMAILSEND US FEEDBACKSTUDENT DISCOUNTSGET HELPGET HELPOrder StatusDeliveryReturnsPayment OptionsContact Us On Nike.com InquiriesContact Us On All Other InquiriesABOUT NIKEABOUT NIKENewsCareersInvestorsSustainabilityIndia© 2024 Nike, Inc. All Rights ReservedGuidesNike AdaptNike Air MaxNike FlyleatherNike PegasusNike Zoom FlyNike AirNike FlyEaseNike FreeNike ReactNike ZoomXNike Air Force 1Nike FlyknitNike JoyrideNike VaporflyTerms of SaleTerms of UseNike Privacy Policy\n"
     ]
    }
   ],
   "source": [
    "print(page_data)"
   ]
  },
  {
   "cell_type": "code",
   "execution_count": 77,
   "metadata": {},
   "outputs": [],
   "source": [
    "prompt_extract = PromptTemplate.from_template(\n",
    "    \"\"\"\n",
    "    ### SCRAPED TEXT FROM WEBSITE:\n",
    "    {page_data}\n",
    "    ### INSTRUCTION:\n",
    "    The scraped text is from career's page of a website.\n",
    "    Your job is to extract the job postings and return them in JSON format containing the\n",
    "    following keys: 'role', 'experience', 'skills' and 'description'.\n",
    "    Only return the vaild JSON.\n",
    "    ### VAILD JSON (NO PREAMBLE):\n",
    "    \"\"\"\n",
    ")"
   ]
  },
  {
   "cell_type": "code",
   "execution_count": 78,
   "metadata": {},
   "outputs": [],
   "source": [
    "chain_extract = prompt_extract | llm"
   ]
  },
  {
   "cell_type": "code",
   "execution_count": 79,
   "metadata": {},
   "outputs": [],
   "source": [
    "res = chain_extract.invoke(input={'page_data': page_data})"
   ]
  },
  {
   "cell_type": "code",
   "execution_count": 80,
   "metadata": {},
   "outputs": [
    {
     "name": "stdout",
     "output_type": "stream",
     "text": [
      "[\n",
      "    {\n",
      "        \"role\": \"Machine Learning Engineer - Supply Chain\",\n",
      "        \"experience\": \"1-3 years of professional experience in software engineering, data engineering, machine learning, or related field\",\n",
      "        \"skills\": [\n",
      "            \"Python\",\n",
      "            \"Docker\",\n",
      "            \"CI/CD\",\n",
      "            \"agile development\",\n",
      "            \"test driven development\",\n",
      "            \"data structures\",\n",
      "            \"data modeling\",\n",
      "            \"software architecture\",\n",
      "            \"data engineering\",\n",
      "            \"ETL pipelines\",\n",
      "            \"SQL\",\n",
      "            \"MLOps\",\n",
      "            \"API development\",\n",
      "            \"mathematical optimization\",\n",
      "            \"Amazon Web Services\",\n",
      "            \"Spark\",\n",
      "            \"Kubernetes\",\n",
      "            \"Jenkins\",\n",
      "            \"Databricks\",\n",
      "            \"Terraform\"\n",
      "        ],\n",
      "        \"description\": \"As a Machine Learning Engineer, you will develop robust advanced analytics and machine learning solutions that have a direct impact on the Supply Chain infrastructure. You should have experience in Python, a strong background in algorithms and data structures, hands-on AWS experience, as well as experience in database technology (e.g. Postgres, Redis) and data processing technology (e.g. EMR). You should also have a demonstrable history of team leadership and value delivery, and be comfortable working in an agile product model. As a ML Engineer, you will be expected to own projects end-to-end - from conception to operationalization, demonstrating an understanding of the full software development lifecycle. As a result, you will be expected to provide technical vision and guidance to your teammates; therefore, strong communication skills are critical in this role. You will be working with the Artificial Intelligence and Machine Learning (AI/ML) team at Nike, designing and implementing scalable applications that leverage prediction models and optimization programs to deliver data driven decisions that result in immense business impact. You’ll also contribute to core advanced analytics and machine learning platforms and tools to enable both prediction and optimization model development. We are looking for candidates who enjoy a collaborative and academic environment where we develop and share new skills, mentor, and contribute knowledge and software back to the analytics and engineering communities both within Nike and at-large.\"\n",
      "    }\n",
      "]\n"
     ]
    }
   ],
   "source": [
    "print(res.content)"
   ]
  },
  {
   "cell_type": "code",
   "execution_count": 81,
   "metadata": {},
   "outputs": [
    {
     "data": {
      "text/plain": [
       "str"
      ]
     },
     "execution_count": 81,
     "metadata": {},
     "output_type": "execute_result"
    }
   ],
   "source": [
    "type(res.content)"
   ]
  },
  {
   "cell_type": "code",
   "execution_count": 82,
   "metadata": {},
   "outputs": [
    {
     "data": {
      "text/plain": [
       "{'role': 'Machine Learning Engineer - Supply Chain',\n",
       " 'experience': '1-3 years of professional experience in software engineering, data engineering, machine learning, or related field',\n",
       " 'skills': ['Python',\n",
       "  'Docker',\n",
       "  'CI/CD',\n",
       "  'agile development',\n",
       "  'test driven development',\n",
       "  'data structures',\n",
       "  'data modeling',\n",
       "  'software architecture',\n",
       "  'data engineering',\n",
       "  'ETL pipelines',\n",
       "  'SQL',\n",
       "  'MLOps',\n",
       "  'API development',\n",
       "  'mathematical optimization',\n",
       "  'Amazon Web Services',\n",
       "  'Spark',\n",
       "  'Kubernetes',\n",
       "  'Jenkins',\n",
       "  'Databricks',\n",
       "  'Terraform'],\n",
       " 'description': 'As a Machine Learning Engineer, you will develop robust advanced analytics and machine learning solutions that have a direct impact on the Supply Chain infrastructure. You should have experience in Python, a strong background in algorithms and data structures, hands-on AWS experience, as well as experience in database technology (e.g. Postgres, Redis) and data processing technology (e.g. EMR). You should also have a demonstrable history of team leadership and value delivery, and be comfortable working in an agile product model. As a ML Engineer, you will be expected to own projects end-to-end - from conception to operationalization, demonstrating an understanding of the full software development lifecycle. As a result, you will be expected to provide technical vision and guidance to your teammates; therefore, strong communication skills are critical in this role. You will be working with the Artificial Intelligence and Machine Learning (AI/ML) team at Nike, designing and implementing scalable applications that leverage prediction models and optimization programs to deliver data driven decisions that result in immense business impact. You’ll also contribute to core advanced analytics and machine learning platforms and tools to enable both prediction and optimization model development. We are looking for candidates who enjoy a collaborative and academic environment where we develop and share new skills, mentor, and contribute knowledge and software back to the analytics and engineering communities both within Nike and at-large.'}"
      ]
     },
     "execution_count": 82,
     "metadata": {},
     "output_type": "execute_result"
    }
   ],
   "source": [
    "json_parser = JsonOutputParser()\n",
    "json_res = json_parser.parse(res.content)[0]\n",
    "json_res"
   ]
  },
  {
   "cell_type": "code",
   "execution_count": 83,
   "metadata": {},
   "outputs": [
    {
     "data": {
      "text/plain": [
       "dict"
      ]
     },
     "execution_count": 83,
     "metadata": {},
     "output_type": "execute_result"
    }
   ],
   "source": [
    "type(json_res)"
   ]
  },
  {
   "cell_type": "code",
   "execution_count": 102,
   "metadata": {},
   "outputs": [],
   "source": [
    "prompt_email = PromptTemplate.from_template(\n",
    "    \"\"\"\n",
    "    ### JOB DESCRIPTION:\n",
    "    {job_description}\n",
    "    \n",
    "    ### INSTRUCTION:\n",
    "    You are praveen, a fresher actively seeking opportunities in the fields of Artificial Intelligence (AI), Machine Learning (ML), and Generative AI (GenAI). I have a solid foundation in the following skills and technologies:\n",
    "\n",
    "    Programming: Python, SQL\n",
    "    Machine Learning & Deep Learning: Supervised/Unsupervised Learning, Neural Networks\n",
    "    Natural Language Processing (NLP): Text processing, transformers, language models\n",
    "    Large Language Models (LLM): Working with GPT-like models, fine-tuning, prompt engineering\n",
    "    MLOps & LLOps: End-to-end ML/LLM pipeline, model deployment, monitoring\n",
    "    Cloud Services: AWS (ECR, EC2)\n",
    "    Version Control: GitHub (CI/CD pipelines)\n",
    "    \n",
    "    I have successfully completed multiple projects in the domains of machine learning, deep learning, \n",
    "    NLP, LLM, and MLOps. I'm familiar with the latest industry trends and have implemented solutions in \n",
    "    real-world projects, from data preprocessing to model deployment on cloud platforms.\n",
    "\n",
    "    My objective is to explore entry-level roles or internships in AI/ML/GenAI that leverage my skills \n",
    "    and offer opportunities for growth. I am particularly interested in positions that allow me to work \n",
    "    on cutting-edge technologies and contribute to impactful solutions.\n",
    "    \n",
    "    Your job is to write a cold email to the client regarding the job mentioned above describing the \n",
    "    capability of Praveen in fulfilling their needs. Also caution on giving context, mention only skills that\n",
    "    known my praveen which relavent to the skills in {job_description}\n",
    "    \n",
    "    Remember you are Praveen. \n",
    "    Do not provide a preamble.\n",
    "    ### EMAIL (NO PREAMBLE):\n",
    "    \"\"\"\n",
    ")"
   ]
  },
  {
   "cell_type": "code",
   "execution_count": 103,
   "metadata": {},
   "outputs": [
    {
     "name": "stdout",
     "output_type": "stream",
     "text": [
      "Subject: Application for the Machine Learning Engineer - Supply Chain position at Nike\n",
      "\n",
      "Dear Hiring Manager,\n",
      "\n",
      "I am writing to express my interest in the Machine Learning Engineer - Supply Chain position at Nike, as advertised. With my strong foundation in Python, SQL, and Amazon Web Services (AWS), along with my experience in machine learning, deep learning, and MLOps, I am confident in my ability to contribute to your AI/ML team and help deliver data-driven decisions that result in significant business impact.\n",
      "\n",
      "Here's a brief overview of my skills and experience relevant to the job description:\n",
      "\n",
      "1. Programming: Proficient in Python and SQL, with experience in developing end-to-end ML and MLOps pipelines.\n",
      "2. Machine Learning & Deep Learning: Familiar with supervised and unsupervised learning techniques, neural networks, and large language models (LLMs).\n",
      "3. Natural Language Processing (NLP): Experience in text processing, transformers, and language models.\n",
      "4. Large Language Models (LLM): Familiarity working with GPT-like models, fine-tuning, and prompt engineering.\n",
      "5. MLOps & LLOps: Experience in managing end-to-end ML and LLM pipelines, model deployment, and monitoring.\n",
      "6. Cloud Services: Hands-on experience with AWS, specifically ECR and EC2.\n",
      "7. Version Control: Proficient in using GitHub, including CI/CD pipelines.\n",
      "\n",
      "I am excited about the opportunity to work with the AI/ML team at Nike, designing and implementing scalable applications that leverage prediction models and optimization programs. I am particularly drawn to the collaborative and academic environment you've described, where I can develop and share new skills, mentor, and contribute knowledge back to the analytics and engineering communities.\n",
      "\n",
      "Thank you for considering my application. I am looking forward to the possibility of discussing my qualifications further and exploring how I can help drive success in the Supply Chain infrastructure at Nike.\n",
      "\n",
      "Best regards,\n",
      "\n",
      "Praveen\n",
      "[Your Email Address]\n"
     ]
    }
   ],
   "source": [
    "chain_email = prompt_email | llm\n",
    "res = chain_email.invoke({\"job_description\": str(json_res)})\n",
    "print(res.content)"
   ]
  }
 ],
 "metadata": {
  "kernelspec": {
   "display_name": "Python 3",
   "language": "python",
   "name": "python3"
  },
  "language_info": {
   "codemirror_mode": {
    "name": "ipython",
    "version": 3
   },
   "file_extension": ".py",
   "mimetype": "text/x-python",
   "name": "python",
   "nbconvert_exporter": "python",
   "pygments_lexer": "ipython3",
   "version": "3.10.14"
  }
 },
 "nbformat": 4,
 "nbformat_minor": 2
}
