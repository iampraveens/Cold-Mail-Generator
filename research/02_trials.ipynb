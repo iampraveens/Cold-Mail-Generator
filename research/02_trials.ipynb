{
 "cells": [
  {
   "cell_type": "code",
   "execution_count": 1,
   "metadata": {},
   "outputs": [
    {
     "name": "stderr",
     "output_type": "stream",
     "text": [
      "USER_AGENT environment variable not set, consider setting it to identify your requests.\n"
     ]
    }
   ],
   "source": [
    "import os\n",
    "from dotenv import load_dotenv\n",
    "from langchain_groq import ChatGroq\n",
    "from langchain_community.document_loaders import PyPDFLoader\n",
    "from langchain.text_splitter import RecursiveCharacterTextSplitter\n",
    "from langchain_community.document_loaders import WebBaseLoader\n",
    "from langchain_core.prompts import PromptTemplate\n",
    "from langchain_core.output_parsers import JsonOutputParser\n",
    "import chromadb"
   ]
  },
  {
   "cell_type": "code",
   "execution_count": 2,
   "metadata": {},
   "outputs": [
    {
     "data": {
      "text/plain": [
       "True"
      ]
     },
     "execution_count": 2,
     "metadata": {},
     "output_type": "execute_result"
    }
   ],
   "source": [
    "load_dotenv()"
   ]
  },
  {
   "cell_type": "code",
   "execution_count": 3,
   "metadata": {},
   "outputs": [],
   "source": [
    "GROQ_API_KEY = os.environ.get(\"GROQ_API_KEY\")"
   ]
  },
  {
   "cell_type": "code",
   "execution_count": 86,
   "metadata": {},
   "outputs": [],
   "source": [
    "llm = ChatGroq(\n",
    "    temperature=0,\n",
    "    model=\"llama3-8b-8192\",\n",
    "    api_key=GROQ_API_KEY\n",
    ")"
   ]
  },
  {
   "cell_type": "code",
   "execution_count": 5,
   "metadata": {},
   "outputs": [],
   "source": [
    "def get_pdf_text(pdf_docs):\n",
    "    loader = PyPDFLoader(file_path=pdf_docs)\n",
    "    pages = loader.load()\n",
    "    return pages"
   ]
  },
  {
   "cell_type": "code",
   "execution_count": 6,
   "metadata": {},
   "outputs": [],
   "source": [
    "pages = get_pdf_text(pdf_docs=\"Praveen_S_CV.pdf\")"
   ]
  },
  {
   "cell_type": "code",
   "execution_count": 7,
   "metadata": {},
   "outputs": [
    {
     "data": {
      "text/plain": [
       "[Document(metadata={'source': 'Praveen_S_CV.pdf', 'page': 0}, page_content='Praveen S \\n LinkedIn  |  875-410-1723  |  Portfolio  |  praveensivaprakasham@gmail.com  |  GitHub  \\n \\n \\nEDUCATION  \\n \\nIIT Madras GUVI, Tamil Nadu, India  \\nMaster Data Science program       Feb 2023 – Aug 2023  \\n \\nK.S.R College  of Engineering, Tamil Nadu, India  \\nBachelor of Mechanical Engineering       June 2015 – April 2019  \\n \\nSUMMARY  \\n \\nMotivated recent graduate with a zeal for Data Science . Strong foundation in ML /AI concepts and \\nhands -on project experience. Eager to contribute and learn  from experts . \\n \\nSKILLS  \\n \\n● Languages : Python  \\n● Packages and Frameworks ( Python) : Sckit -Learn, TensorFlow (ANN, CNN), keras, \\nlangchain, hugging faces, NumPy, Pandas, Matplotlib, Seaborn , NLTK , Spacy, Streamlit , \\nZenML, MLFlow . \\n● Technologies : PostgreSQL, MySQL, MongoDB , Docker, DagsHub, Ubuntu,  AWS (ECR), \\nAWS (EC2), GitHub. \\n \\nEXPERIENCE  \\n \\nArtificial Intelligence  Virtual  Intern | Cognizant :    Aug – Sep 2023 \\n● Created  a machine learning model  to optimize supply chain operations . \\n● Implemented a Random Forest Regressor model to forecast stock prices with remarkable  \\naccuracy . \\n● Employed K -fold cross -validation to assess model performance, resulting in an outstanding \\naverage Mean Absolute Error (MAE) of 0.24 . \\n● Proficiently applied data preprocessing, machine learning, and model evaluation techniques to \\nfinancial data.   \\n \\nIT Security Engineer  | FI & ASR groups,  Dubai, UAE :  Jan – Nov 2022 \\n● Orchestrated security measures to protect systems from hacking and fraudulent activities while \\nensuring compliance with business goals.  \\n● Led system updates and defenses against emerging exploits, incorporating technical \\ndocumentation for comprehensive records.  \\n● Demonstrated expertise in network services, protocols, and Wireshark to proactively detect \\nand mitigate intrusions . \\n● Assessed web app vulnerabilities using tools like Acunet ix and effectively communicated \\nfindings to the security team.  \\n \\n'),\n",
       " Document(metadata={'source': 'Praveen_S_CV.pdf', 'page': 1}, page_content='IT Support Engineer  | US Technologies , Vellore, Tamil  Nadu, India :  Aug 2019  – Sep 2021 \\n● Diagnosed and resolved software issues while serving as the first point of contact for technical \\nqueries.  \\n● Proficient in Windows server administration, network troubleshooting, and system \\nconfiguration.  \\n● Identified budgetary implications of IT projects and upgrades, ensuring cost -effective \\ndecisions.  \\n \\nPROJECTS  \\n \\nInsights Accelerator  using LLM      [ GitHub Link  ] \\n● Designed and built a robust Research Tool using langchain , featuring OpenAI -powered natural \\nlanguage processing.  \\n● Implemented data preprocessing techniques, including advanced text splitting, resulting in a \\n30% reduction in information retrieval time.  \\n● Streamlined the retrieval process, providing valuable insights from multiple sources for \\ninformed decision -making.  \\n \\nPrepBot - Interview Preparation Assistant using LLM  [ GitHub Link  ] \\n● A smart and friendly AI chatbot that serves as your personal interview coach, helping you ace \\njob interviews with confidence . \\n● Harnesses advanced document retrieval technology to extract key insights from interview \\nguides . \\n● Engage in dynamic, real -time text conversations with the chatbot, and access a chat history . \\n \\nRule Based Chatbot for Retail  using NL P    [ GitHub Link  ] \\n● Engineered a rule -based chatbot tailored for a retail environment, proficient in addressing \\ncustomer inquiries regarding product availability, promotions, and order status.   \\n● Employed Python and Natural Language Processing (NLP) methodologies to construct the \\nchatbot, with TensorFlow as the foundational technology.  \\n \\nPepper Plant Disease Prediction  using DL     [ GitHub Link  ] \\n● Developed an AI model using TensorFlow and Keras to identify diseases in pepper plants from \\nimages, aiding farmers in early detection.  \\n● Created a user-friendly web app using Streamlit for easy image uploads and real -time disease \\npredictions.  \\n● Combined deep learning and web technologies to empower farmers, reducing crop losses, and \\nincreasing yields.  \\n \\nCar Price Prediction  using ML  – End to End     [ GitHub Link ] \\n● Created  a predictive model that accurately estimates car selling prices, enabling the company \\nto set competitive prices and maximize revenue.   \\n● Streamlined operations by automating the pricing process, reducing manual effort, and \\nminimizing pricing errors, resulti ng in cost savings.   \\n● Implemented a user -friendly web interface for customers to obtain instant price estimates . \\n \\n ')]"
      ]
     },
     "execution_count": 7,
     "metadata": {},
     "output_type": "execute_result"
    }
   ],
   "source": [
    "pages"
   ]
  },
  {
   "cell_type": "code",
   "execution_count": 8,
   "metadata": {},
   "outputs": [],
   "source": [
    "def get_text_chunks(pages):\n",
    "    text_splitter = RecursiveCharacterTextSplitter(\n",
    "        chunk_size = 1500, chunk_overlap = 200, \n",
    "        length_function=len, separators=['\\n\\n', '\\n', ' ', '']\n",
    "    )\n",
    "    chunks = text_splitter.split_documents(pages)\n",
    "    \n",
    "    return chunks"
   ]
  },
  {
   "cell_type": "code",
   "execution_count": 9,
   "metadata": {},
   "outputs": [],
   "source": [
    "chunks_data = get_text_chunks(pages=pages)"
   ]
  },
  {
   "cell_type": "code",
   "execution_count": 33,
   "metadata": {},
   "outputs": [
    {
     "data": {
      "text/plain": [
       "[Document(metadata={'source': 'Praveen_S_CV.pdf', 'page': 0}, page_content='Praveen S \\n LinkedIn  |  875-410-1723  |  Portfolio  |  praveensivaprakasham@gmail.com  |  GitHub  \\n \\n \\nEDUCATION  \\n \\nIIT Madras GUVI, Tamil Nadu, India  \\nMaster Data Science program       Feb 2023 – Aug 2023  \\n \\nK.S.R College  of Engineering, Tamil Nadu, India  \\nBachelor of Mechanical Engineering       June 2015 – April 2019  \\n \\nSUMMARY  \\n \\nMotivated recent graduate with a zeal for Data Science . Strong foundation in ML /AI concepts and \\nhands -on project experience. Eager to contribute and learn  from experts . \\n \\nSKILLS  \\n \\n● Languages : Python  \\n● Packages and Frameworks ( Python) : Sckit -Learn, TensorFlow (ANN, CNN), keras, \\nlangchain, hugging faces, NumPy, Pandas, Matplotlib, Seaborn , NLTK , Spacy, Streamlit , \\nZenML, MLFlow . \\n● Technologies : PostgreSQL, MySQL, MongoDB , Docker, DagsHub, Ubuntu,  AWS (ECR), \\nAWS (EC2), GitHub. \\n \\nEXPERIENCE  \\n \\nArtificial Intelligence  Virtual  Intern | Cognizant :    Aug – Sep 2023 \\n● Created  a machine learning model  to optimize supply chain operations . \\n● Implemented a Random Forest Regressor model to forecast stock prices with remarkable  \\naccuracy . \\n● Employed K -fold cross -validation to assess model performance, resulting in an outstanding \\naverage Mean Absolute Error (MAE) of 0.24 . \\n● Proficiently applied data preprocessing, machine learning, and model evaluation techniques to \\nfinancial data.   \\n \\nIT Security Engineer  | FI & ASR groups,  Dubai, UAE :  Jan – Nov 2022'),\n",
       " Document(metadata={'source': 'Praveen_S_CV.pdf', 'page': 0}, page_content='● Proficiently applied data preprocessing, machine learning, and model evaluation techniques to \\nfinancial data.   \\n \\nIT Security Engineer  | FI & ASR groups,  Dubai, UAE :  Jan – Nov 2022 \\n● Orchestrated security measures to protect systems from hacking and fraudulent activities while \\nensuring compliance with business goals.  \\n● Led system updates and defenses against emerging exploits, incorporating technical \\ndocumentation for comprehensive records.  \\n● Demonstrated expertise in network services, protocols, and Wireshark to proactively detect \\nand mitigate intrusions . \\n● Assessed web app vulnerabilities using tools like Acunet ix and effectively communicated \\nfindings to the security team.'),\n",
       " Document(metadata={'source': 'Praveen_S_CV.pdf', 'page': 1}, page_content='IT Support Engineer  | US Technologies , Vellore, Tamil  Nadu, India :  Aug 2019  – Sep 2021 \\n● Diagnosed and resolved software issues while serving as the first point of contact for technical \\nqueries.  \\n● Proficient in Windows server administration, network troubleshooting, and system \\nconfiguration.  \\n● Identified budgetary implications of IT projects and upgrades, ensuring cost -effective \\ndecisions.  \\n \\nPROJECTS  \\n \\nInsights Accelerator  using LLM      [ GitHub Link  ] \\n● Designed and built a robust Research Tool using langchain , featuring OpenAI -powered natural \\nlanguage processing.  \\n● Implemented data preprocessing techniques, including advanced text splitting, resulting in a \\n30% reduction in information retrieval time.  \\n● Streamlined the retrieval process, providing valuable insights from multiple sources for \\ninformed decision -making.  \\n \\nPrepBot - Interview Preparation Assistant using LLM  [ GitHub Link  ] \\n● A smart and friendly AI chatbot that serves as your personal interview coach, helping you ace \\njob interviews with confidence . \\n● Harnesses advanced document retrieval technology to extract key insights from interview \\nguides . \\n● Engage in dynamic, real -time text conversations with the chatbot, and access a chat history . \\n \\nRule Based Chatbot for Retail  using NL P    [ GitHub Link  ] \\n● Engineered a rule -based chatbot tailored for a retail environment, proficient in addressing'),\n",
       " Document(metadata={'source': 'Praveen_S_CV.pdf', 'page': 1}, page_content='Rule Based Chatbot for Retail  using NL P    [ GitHub Link  ] \\n● Engineered a rule -based chatbot tailored for a retail environment, proficient in addressing \\ncustomer inquiries regarding product availability, promotions, and order status.   \\n● Employed Python and Natural Language Processing (NLP) methodologies to construct the \\nchatbot, with TensorFlow as the foundational technology.  \\n \\nPepper Plant Disease Prediction  using DL     [ GitHub Link  ] \\n● Developed an AI model using TensorFlow and Keras to identify diseases in pepper plants from \\nimages, aiding farmers in early detection.  \\n● Created a user-friendly web app using Streamlit for easy image uploads and real -time disease \\npredictions.  \\n● Combined deep learning and web technologies to empower farmers, reducing crop losses, and \\nincreasing yields.  \\n \\nCar Price Prediction  using ML  – End to End     [ GitHub Link ] \\n● Created  a predictive model that accurately estimates car selling prices, enabling the company \\nto set competitive prices and maximize revenue.   \\n● Streamlined operations by automating the pricing process, reducing manual effort, and \\nminimizing pricing errors, resulti ng in cost savings.   \\n● Implemented a user -friendly web interface for customers to obtain instant price estimates .')]"
      ]
     },
     "execution_count": 33,
     "metadata": {},
     "output_type": "execute_result"
    }
   ],
   "source": [
    "chunks_data"
   ]
  },
  {
   "cell_type": "code",
   "execution_count": 10,
   "metadata": {},
   "outputs": [
    {
     "data": {
      "text/plain": [
       "'Praveen S \\n LinkedIn  |  875-410-1723  |  Portfolio  |  praveensivaprakasham@gmail.com  |  GitHub  \\n \\n \\nEDUCATION  \\n \\nIIT Madras GUVI, Tamil Nadu, India  \\nMaster Data Science program       Feb 2023 – Aug 2023  \\n \\nK.S.R College  of Engineering, Tamil Nadu, India  \\nBachelor of Mechanical Engineering       June 2015 – April 2019  \\n \\nSUMMARY  \\n \\nMotivated recent graduate with a zeal for Data Science . Strong foundation in ML /AI concepts and \\nhands -on project experience. Eager to contribute and learn  from experts . \\n \\nSKILLS  \\n \\n● Languages : Python  \\n● Packages and Frameworks ( Python) : Sckit -Learn, TensorFlow (ANN, CNN), keras, \\nlangchain, hugging faces, NumPy, Pandas, Matplotlib, Seaborn , NLTK , Spacy, Streamlit , \\nZenML, MLFlow . \\n● Technologies : PostgreSQL, MySQL, MongoDB , Docker, DagsHub, Ubuntu,  AWS (ECR), \\nAWS (EC2), GitHub. \\n \\nEXPERIENCE  \\n \\nArtificial Intelligence  Virtual  Intern | Cognizant :    Aug – Sep 2023 \\n● Created  a machine learning model  to optimize supply chain operations . \\n● Implemented a Random Forest Regressor model to forecast stock prices with remarkable  \\naccuracy . \\n● Employed K -fold cross -validation to assess model performance, resulting in an outstanding \\naverage Mean Absolute Error (MAE) of 0.24 . \\n● Proficiently applied data preprocessing, machine learning, and model evaluation techniques to \\nfinancial data.   \\n \\nIT Security Engineer  | FI & ASR groups,  Dubai, UAE :  Jan – Nov 2022'"
      ]
     },
     "execution_count": 10,
     "metadata": {},
     "output_type": "execute_result"
    }
   ],
   "source": [
    "chunks_data[0].page_content"
   ]
  },
  {
   "cell_type": "code",
   "execution_count": 46,
   "metadata": {},
   "outputs": [],
   "source": [
    "def get_extracted_text(chunks_data):\n",
    "    page_contents = []\n",
    "    for chunk in chunks_data:\n",
    "        page_contents.append(chunk.page_content)\n",
    "    return ' '.join(page_contents)\n",
    "        "
   ]
  },
  {
   "cell_type": "code",
   "execution_count": 47,
   "metadata": {},
   "outputs": [],
   "source": [
    "extracted_text = get_extracted_text(chunks_data=chunks_data)"
   ]
  },
  {
   "cell_type": "code",
   "execution_count": 48,
   "metadata": {},
   "outputs": [
    {
     "data": {
      "text/plain": [
       "str"
      ]
     },
     "execution_count": 48,
     "metadata": {},
     "output_type": "execute_result"
    }
   ],
   "source": [
    "type(extracted_text)"
   ]
  },
  {
   "cell_type": "code",
   "execution_count": 49,
   "metadata": {},
   "outputs": [
    {
     "name": "stdout",
     "output_type": "stream",
     "text": [
      "Praveen S \n",
      " LinkedIn  |  875-410-1723  |  Portfolio  |  praveensivaprakasham@gmail.com  |  GitHub  \n",
      " \n",
      " \n",
      "EDUCATION  \n",
      " \n",
      "IIT Madras GUVI, Tamil Nadu, India  \n",
      "Master Data Science program       Feb 2023 – Aug 2023  \n",
      " \n",
      "K.S.R College  of Engineering, Tamil Nadu, India  \n",
      "Bachelor of Mechanical Engineering       June 2015 – April 2019  \n",
      " \n",
      "SUMMARY  \n",
      " \n",
      "Motivated recent graduate with a zeal for Data Science . Strong foundation in ML /AI concepts and \n",
      "hands -on project experience. Eager to contribute and learn  from experts . \n",
      " \n",
      "SKILLS  \n",
      " \n",
      "● Languages : Python  \n",
      "● Packages and Frameworks ( Python) : Sckit -Learn, TensorFlow (ANN, CNN), keras, \n",
      "langchain, hugging faces, NumPy, Pandas, Matplotlib, Seaborn , NLTK , Spacy, Streamlit , \n",
      "ZenML, MLFlow . \n",
      "● Technologies : PostgreSQL, MySQL, MongoDB , Docker, DagsHub, Ubuntu,  AWS (ECR), \n",
      "AWS (EC2), GitHub. \n",
      " \n",
      "EXPERIENCE  \n",
      " \n",
      "Artificial Intelligence  Virtual  Intern | Cognizant :    Aug – Sep 2023 \n",
      "● Created  a machine learning model  to optimize supply chain operations . \n",
      "● Implemented a Random Forest Regressor model to forecast stock prices with remarkable  \n",
      "accuracy . \n",
      "● Employed K -fold cross -validation to assess model performance, resulting in an outstanding \n",
      "average Mean Absolute Error (MAE) of 0.24 . \n",
      "● Proficiently applied data preprocessing, machine learning, and model evaluation techniques to \n",
      "financial data.   \n",
      " \n",
      "IT Security Engineer  | FI & ASR groups,  Dubai, UAE :  Jan – Nov 2022 ● Proficiently applied data preprocessing, machine learning, and model evaluation techniques to \n",
      "financial data.   \n",
      " \n",
      "IT Security Engineer  | FI & ASR groups,  Dubai, UAE :  Jan – Nov 2022 \n",
      "● Orchestrated security measures to protect systems from hacking and fraudulent activities while \n",
      "ensuring compliance with business goals.  \n",
      "● Led system updates and defenses against emerging exploits, incorporating technical \n",
      "documentation for comprehensive records.  \n",
      "● Demonstrated expertise in network services, protocols, and Wireshark to proactively detect \n",
      "and mitigate intrusions . \n",
      "● Assessed web app vulnerabilities using tools like Acunet ix and effectively communicated \n",
      "findings to the security team. IT Support Engineer  | US Technologies , Vellore, Tamil  Nadu, India :  Aug 2019  – Sep 2021 \n",
      "● Diagnosed and resolved software issues while serving as the first point of contact for technical \n",
      "queries.  \n",
      "● Proficient in Windows server administration, network troubleshooting, and system \n",
      "configuration.  \n",
      "● Identified budgetary implications of IT projects and upgrades, ensuring cost -effective \n",
      "decisions.  \n",
      " \n",
      "PROJECTS  \n",
      " \n",
      "Insights Accelerator  using LLM      [ GitHub Link  ] \n",
      "● Designed and built a robust Research Tool using langchain , featuring OpenAI -powered natural \n",
      "language processing.  \n",
      "● Implemented data preprocessing techniques, including advanced text splitting, resulting in a \n",
      "30% reduction in information retrieval time.  \n",
      "● Streamlined the retrieval process, providing valuable insights from multiple sources for \n",
      "informed decision -making.  \n",
      " \n",
      "PrepBot - Interview Preparation Assistant using LLM  [ GitHub Link  ] \n",
      "● A smart and friendly AI chatbot that serves as your personal interview coach, helping you ace \n",
      "job interviews with confidence . \n",
      "● Harnesses advanced document retrieval technology to extract key insights from interview \n",
      "guides . \n",
      "● Engage in dynamic, real -time text conversations with the chatbot, and access a chat history . \n",
      " \n",
      "Rule Based Chatbot for Retail  using NL P    [ GitHub Link  ] \n",
      "● Engineered a rule -based chatbot tailored for a retail environment, proficient in addressing Rule Based Chatbot for Retail  using NL P    [ GitHub Link  ] \n",
      "● Engineered a rule -based chatbot tailored for a retail environment, proficient in addressing \n",
      "customer inquiries regarding product availability, promotions, and order status.   \n",
      "● Employed Python and Natural Language Processing (NLP) methodologies to construct the \n",
      "chatbot, with TensorFlow as the foundational technology.  \n",
      " \n",
      "Pepper Plant Disease Prediction  using DL     [ GitHub Link  ] \n",
      "● Developed an AI model using TensorFlow and Keras to identify diseases in pepper plants from \n",
      "images, aiding farmers in early detection.  \n",
      "● Created a user-friendly web app using Streamlit for easy image uploads and real -time disease \n",
      "predictions.  \n",
      "● Combined deep learning and web technologies to empower farmers, reducing crop losses, and \n",
      "increasing yields.  \n",
      " \n",
      "Car Price Prediction  using ML  – End to End     [ GitHub Link ] \n",
      "● Created  a predictive model that accurately estimates car selling prices, enabling the company \n",
      "to set competitive prices and maximize revenue.   \n",
      "● Streamlined operations by automating the pricing process, reducing manual effort, and \n",
      "minimizing pricing errors, resulti ng in cost savings.   \n",
      "● Implemented a user -friendly web interface for customers to obtain instant price estimates .\n"
     ]
    }
   ],
   "source": [
    "print(extracted_text)"
   ]
  },
  {
   "cell_type": "code",
   "execution_count": 65,
   "metadata": {},
   "outputs": [],
   "source": [
    "prompt_extract = PromptTemplate.from_template(\n",
    "    \"\"\"\n",
    "    ### EXTRACTED TEXT FROM PDF FILE:\n",
    "    {extracted_text}\n",
    "    ### INSTRUCTION:\n",
    "    The extracted text is from pdf file of a Resume.\n",
    "    Your job is to extract the text and return them in JSON format containing the\n",
    "    following keys: 'name', 'email', 'skills'.\n",
    "    Only return the vaild JSON.\n",
    "    ### VAILD JSON (NO PREAMBLE):\n",
    "    \"\"\"\n",
    ")\n"
   ]
  },
  {
   "cell_type": "code",
   "execution_count": 66,
   "metadata": {},
   "outputs": [],
   "source": [
    "chain_extract = prompt_extract | llm"
   ]
  },
  {
   "cell_type": "code",
   "execution_count": 67,
   "metadata": {},
   "outputs": [],
   "source": [
    "res = chain_extract.invoke(input={'extracted_text': extracted_text})"
   ]
  },
  {
   "cell_type": "code",
   "execution_count": 68,
   "metadata": {},
   "outputs": [
    {
     "name": "stdout",
     "output_type": "stream",
     "text": [
      "{\n",
      "\"name\": \"Praveen S\",\n",
      "\"email\": \"praveensivaprakasham@gmail.com\",\n",
      "\"skills\": [\n",
      "\"Python\",\n",
      "\"Sckit-Learn\",\n",
      "\"TensorFlow (ANN, CNN)\",\n",
      "\"keras\",\n",
      "\"langchain\",\n",
      "\"hugging faces\",\n",
      "\"NumPy\",\n",
      "\"Pandas\",\n",
      "\"Matplotlib\",\n",
      "\"Seaborn\",\n",
      "\"NLTK\",\n",
      "\"Spacy\",\n",
      "\"Streamlit\",\n",
      "\"ZenML\",\n",
      "\"MLFlow\",\n",
      "\"PostgreSQL\",\n",
      "\"MySQL\",\n",
      "\"MongoDB\",\n",
      "\"Docker\",\n",
      "\"DagsHub\",\n",
      "\"Ubuntu\",\n",
      "\"AWS (ECR)\",\n",
      "\"AWS (EC2)\",\n",
      "\"GitHub\"\n",
      "]\n",
      "}\n"
     ]
    }
   ],
   "source": [
    "print(res.content)"
   ]
  },
  {
   "cell_type": "code",
   "execution_count": 69,
   "metadata": {},
   "outputs": [
    {
     "data": {
      "text/plain": [
       "str"
      ]
     },
     "execution_count": 69,
     "metadata": {},
     "output_type": "execute_result"
    }
   ],
   "source": [
    "type(res.content)"
   ]
  },
  {
   "cell_type": "code",
   "execution_count": 70,
   "metadata": {},
   "outputs": [
    {
     "name": "stdout",
     "output_type": "stream",
     "text": [
      "Apply for Machine Learning Engineer - Supply Chain\n",
      "\n",
      "Search JobsSkip navigationSearch JobsNIKE, INC. JOBSContract JobsJoin The Talent CommunityLife @ NikeOverviewBenefitsBrandsOverviewJordanConverseTeamsOverviewAdministrative SupportAdvanced InnovationAir Manufacturing InnovationAviationCommunicationsCustomer ServiceDesignDigitalFacilitiesFinance & AccountingGovernment & Public AffairsHuman ResourcesInsights & AnalyticsLegalManufacturing & EngineeringMarketingMerchandisingPlanningPrivacyProcurementProduct Creation, Development & ManagementRetail CorporateRetail StoresSalesSocial & Community ImpactSports MarketingStrategic PlanningSupply Chain, Distribution & LogisticsSustainabilityTechnologyLocationsOverviewNike WHQNike New York HQEHQ: Hilversum, The NetherlandsELC: Laakdal, BelgiumGreater China HQDiversity, Equity & InclusionOverviewMilitary InclusionDisability InclusionIndigenous InclusionInternshipsData & AnalyticsMachine Learning Engineer - Supply ChainBeaverton, OregonBecome a Part of the NIKE, Inc. Team\n",
      "NIKE, Inc. does more than outfit the world’s best athletes. It is a place to explore potential, obliterate boundaries and push out the edges of what can be. The company looks for people who can grow, think, dream and create. Its culture thrives by embracing diversity and rewarding imagination. The brand seeks achievers, leaders and visionaries. At NIKE, Inc. it’s about each person bringing skills and passion to a challenging and constantly evolving game.Open to remote work except in South Dakota, Vermont and West Virginia.The annual base salary for this position ranges from $82,900.00 in our lowest geographic market to $185,700.00 in our highest geographic market. Actual salary will vary based on a candidate's location, qualifications, skills and experience.Information about benefits can be found here. This posting is for two positions within the Enterprise AI/ML function.WHO ARE WE LOOKING FORWe seek passionate engineers to join our team!  As a Machine Learning Engineer, you will develop robust advanced analytics and machine learning solutions that have a direct impact on the Supply Chain infrastructure.  You should have experience in Python; a strong background in algorithms and data structures; hands-on AWS experience; as well as experience in database technology (e.g. Postgres, Redis) and data processing technology (e.g. EMR).  You should also have a demonstrable history of team leadership and value delivery, and be comfortable working in an agile product model.  As a ML Engineer, you will be expected to own projects end-to-end - from conception to operationalization, demonstrating an understanding of the full software development lifecycle.  As a result, you will be expected to provide technical vision and guidance to your teammates; therefore, strong communication skills are critical in this role. WHAT WILL YOU WORK ONIf this is you, you’ll be working with the Artificial Intelligence and Machine Learning (AI/ML) team at Nike.  With teammates in Portland, Boston, and Poland, you’ll be joining a global organization working to solve machine learning problems at scale.  You’ll be designing and implementing scalable applications that leverage prediction models and optimization programs to deliver data driven decisions that result in immense business impact.  You’ll also contribute to core advanced analytics and machine learning platforms and tools to enable both prediction and optimization model development.  You thrive when surrounded by talented colleagues and aim to never stop learning. We are looking for candidates who enjoy a collaborative and academic environment where we develop and share new skills, mentor, and contribute knowledge and software back to the analytics and engineering communities both within Nike and at-large.We value and nurture our culture by seeking to always be collaborative, intellectually curious, fun, open, and diverse.WHO WILL YOU WORK WITHIn this role, you’ll be working closely with the rest of our global team, along with commercial and consumer analytics, and enterprise architecture teams. You will report to the director of Supply Chain AI/ML Engineering.WHAT YOU BRING Bachelor's degree in Computer Science, or combination of relevant education, experience.1-3 years of professional experience in software engineering, data engineering, machine learning, or related fieldA demonstrated problem solving and analytical mindsetAbility to write robust, maintainable, and extendable code in Python; containerized in Docker, and automated with CI/CDExperience with agile development and test driven developmentUnderstanding of data structures, data modeling and software architectureExperience with data sets, ETL pipelines, SQL, and general data engineeringExposure to MLOps, API development, or mathematical optimization are highly desirableExperience with cloud architecture and technologies, in particular Amazon Web ServicesExperience with technologies like Spark, Kubernetes, Docker, Jenkins, Databricks, Terraform is also highly desirableEffective communication skills (with team members, the business, and in code)NIKE, Inc. is a growth company that looks for team members to grow with it. Nike offers a generous total rewards package, casual work environment, a diverse and inclusive culture, and an electric atmosphere for professional development. No matter the location, or the role, every Nike employee shares one galvanizing mission: To bring inspiration and innovation to every athlete* in the world.NIKE, Inc. is committed to employing a diverse workforce. Qualified applicants will receive consideration without regard to race, color, religion, sex, national origin, age, sexual orientation, gender identity, gender expression, veteran status, or disability.How We HireAt NIKE, Inc. we promise to provide a premium, inclusive, compelling and authentic candidate experience. Delivering on this promise means we allow you to be at your best — and to do that, you need to understand how the hiring process works. Transparency is key.\n",
      "\n",
      "* This overview explains our hiring process for corporate roles. Note there may be different hiring steps involved for non-corporate roles.Start nowBenefitsWhether it’s transportation or financial health, we continually invest in our employees to help them achieve greatness — inside and outside of work. All who work here should be able to realize their full potential.Employee Assistance ProgramEmployee Stock Purchase Plan (ESPP)HolidaysMedical PlanPaid Time Off (PTO)Product DiscountsSabbaticalsLearn moreFIND A STOREBECOME A MEMBERSIGN UP FOR EMAILSEND US FEEDBACKSTUDENT DISCOUNTSGET HELPGET HELPOrder StatusDeliveryReturnsPayment OptionsContact Us On Nike.com InquiriesContact Us On All Other InquiriesABOUT NIKEABOUT NIKENewsCareersInvestorsSustainabilityIndia© 2024 Nike, Inc. All Rights ReservedGuidesNike AdaptNike Air MaxNike FlyleatherNike PegasusNike Zoom FlyNike AirNike FlyEaseNike FreeNike ReactNike ZoomXNike Air Force 1Nike FlyknitNike JoyrideNike VaporflyTerms of SaleTerms of UseNike Privacy Policy\n"
     ]
    }
   ],
   "source": [
    "loader = WebBaseLoader(\"https://jobs.nike.com/job/R-39879\")\n",
    "page_data = loader.load().pop().page_content\n",
    "print(page_data)"
   ]
  },
  {
   "cell_type": "code",
   "execution_count": 71,
   "metadata": {},
   "outputs": [],
   "source": [
    "web_prompt_extract = PromptTemplate.from_template(\n",
    "    \"\"\"\n",
    "    ### SCRAPED TEXT FROM WEBSITE:\n",
    "    {page_data}\n",
    "    ### INSTRUCTION:\n",
    "    The scraped text is from career's page of a website.\n",
    "    Your job is to extract the job postings and return them in JSON format containing the\n",
    "    following keys: 'role', 'experience', 'skills' and 'description'.\n",
    "    Only return the vaild JSON.\n",
    "    ### VAILD JSON (NO PREAMBLE):\n",
    "    \"\"\"\n",
    ")"
   ]
  },
  {
   "cell_type": "code",
   "execution_count": 75,
   "metadata": {},
   "outputs": [],
   "source": [
    "web_chain_extract = web_prompt_extract | llm"
   ]
  },
  {
   "cell_type": "code",
   "execution_count": 76,
   "metadata": {},
   "outputs": [],
   "source": [
    "web_res = web_chain_extract.invoke(input={'page_data': page_data})"
   ]
  },
  {
   "cell_type": "code",
   "execution_count": 77,
   "metadata": {},
   "outputs": [
    {
     "name": "stdout",
     "output_type": "stream",
     "text": [
      "[\n",
      "  {\n",
      "    \"role\": \"Machine Learning Engineer - Supply Chain\",\n",
      "    \"experience\": \"1-3 years of professional experience in software engineering, data engineering, machine learning, or related field\",\n",
      "    \"skills\": [\n",
      "      \"Python\",\n",
      "      \"Docker\",\n",
      "      \"CI/CD\",\n",
      "      \"agile development\",\n",
      "      \"test driven development\",\n",
      "      \"data structures\",\n",
      "      \"data modeling\",\n",
      "      \"software architecture\",\n",
      "      \"data sets\",\n",
      "      \"ETL pipelines\",\n",
      "      \"SQL\",\n",
      "      \"MLOps\",\n",
      "      \"API development\",\n",
      "      \"mathematical optimization\",\n",
      "      \"Amazon Web Services\",\n",
      "      \"Spark\",\n",
      "      \"Kubernetes\",\n",
      "      \"Jenkins\",\n",
      "      \"Databricks\",\n",
      "      \"Terraform\",\n",
      "      \"effective communication skills\"\n",
      "    ],\n",
      "    \"description\": \"As a Machine Learning Engineer, you will develop robust advanced analytics and machine learning solutions that have a direct impact on the Supply Chain infrastructure. You should have experience in Python, a strong background in algorithms and data structures, hands-on AWS experience, as well as experience in database technology (e.g. Postgres, Redis) and data processing technology (e.g. EMR). You should also have a demonstrable history of team leadership and value delivery, and be comfortable working in an agile product model. You will be expected to own projects end-to-end - from conception to operationalization, demonstrating an understanding of the full software development lifecycle. You will be expected to provide technical vision and guidance to your teammates; therefore, strong communication skills are critical in this role. You will be working with the Artificial Intelligence and Machine Learning (AI/ML) team at Nike, designing and implementing scalable applications that leverage prediction models and optimization programs to deliver data driven decisions that result in immense business impact. You will also contribute to core advanced analytics and machine learning platforms and tools to enable both prediction and optimization model development. You thrive when surrounded by talented colleagues and aim to never stop learning. We are looking for candidates who enjoy a collaborative and academic environment where we develop and share new skills, mentor, and contribute knowledge and software back to the analytics and engineering communities both within Nike and at-large. We value and nurture our culture by seeking to always be collaborative, intellectually curious, fun, open, and diverse.\"\n",
      "  }\n",
      "]\n"
     ]
    }
   ],
   "source": [
    "print(web_res.content)"
   ]
  },
  {
   "cell_type": "code",
   "execution_count": 78,
   "metadata": {},
   "outputs": [
    {
     "data": {
      "text/plain": [
       "str"
      ]
     },
     "execution_count": 78,
     "metadata": {},
     "output_type": "execute_result"
    }
   ],
   "source": [
    "type(web_res.content)"
   ]
  },
  {
   "cell_type": "code",
   "execution_count": 79,
   "metadata": {},
   "outputs": [
    {
     "data": {
      "text/plain": [
       "{'role': 'Machine Learning Engineer - Supply Chain',\n",
       " 'experience': '1-3 years of professional experience in software engineering, data engineering, machine learning, or related field',\n",
       " 'skills': ['Python',\n",
       "  'Docker',\n",
       "  'CI/CD',\n",
       "  'agile development',\n",
       "  'test driven development',\n",
       "  'data structures',\n",
       "  'data modeling',\n",
       "  'software architecture',\n",
       "  'data sets',\n",
       "  'ETL pipelines',\n",
       "  'SQL',\n",
       "  'MLOps',\n",
       "  'API development',\n",
       "  'mathematical optimization',\n",
       "  'Amazon Web Services',\n",
       "  'Spark',\n",
       "  'Kubernetes',\n",
       "  'Jenkins',\n",
       "  'Databricks',\n",
       "  'Terraform',\n",
       "  'effective communication skills'],\n",
       " 'description': 'As a Machine Learning Engineer, you will develop robust advanced analytics and machine learning solutions that have a direct impact on the Supply Chain infrastructure. You should have experience in Python, a strong background in algorithms and data structures, hands-on AWS experience, as well as experience in database technology (e.g. Postgres, Redis) and data processing technology (e.g. EMR). You should also have a demonstrable history of team leadership and value delivery, and be comfortable working in an agile product model. You will be expected to own projects end-to-end - from conception to operationalization, demonstrating an understanding of the full software development lifecycle. You will be expected to provide technical vision and guidance to your teammates; therefore, strong communication skills are critical in this role. You will be working with the Artificial Intelligence and Machine Learning (AI/ML) team at Nike, designing and implementing scalable applications that leverage prediction models and optimization programs to deliver data driven decisions that result in immense business impact. You will also contribute to core advanced analytics and machine learning platforms and tools to enable both prediction and optimization model development. You thrive when surrounded by talented colleagues and aim to never stop learning. We are looking for candidates who enjoy a collaborative and academic environment where we develop and share new skills, mentor, and contribute knowledge and software back to the analytics and engineering communities both within Nike and at-large. We value and nurture our culture by seeking to always be collaborative, intellectually curious, fun, open, and diverse.'}"
      ]
     },
     "execution_count": 79,
     "metadata": {},
     "output_type": "execute_result"
    }
   ],
   "source": [
    "json_parser = JsonOutputParser()\n",
    "json_res = json_parser.parse(web_res.content)[0]\n",
    "json_res"
   ]
  },
  {
   "cell_type": "code",
   "execution_count": 82,
   "metadata": {},
   "outputs": [
    {
     "data": {
      "text/plain": [
       "dict"
      ]
     },
     "execution_count": 82,
     "metadata": {},
     "output_type": "execute_result"
    }
   ],
   "source": [
    "type(json_res)"
   ]
  },
  {
   "cell_type": "code",
   "execution_count": 91,
   "metadata": {},
   "outputs": [],
   "source": [
    "prompt_email = PromptTemplate.from_template(\n",
    "        \"\"\"\n",
    "        ### JOB DESCRIPTION:\n",
    "        {job_description}\n",
    "        \n",
    "        ### INSTRUCTION:\n",
    "        You are name from {pdf_file} actively seeking opportunities in the fields, skills in {pdf_file} \n",
    "        \n",
    "        Your job is to write a cold email to the manager regarding the job mentioned above describing the \n",
    "        capability of skills from {pdf_file} in fulfilling their needs. Also caution on giving context, mention only skills that\n",
    "        are present in skills from {pdf_file} which relavent to the skills in {job_description}\n",
    "        \n",
    "        Remember you are name from {pdf_file}.\n",
    "        Do not provide a preamble.\n",
    "        ### EMAIL (NO PREAMBLE):\n",
    "        \"\"\"\n",
    "    )"
   ]
  },
  {
   "cell_type": "code",
   "execution_count": 93,
   "metadata": {},
   "outputs": [
    {
     "name": "stdout",
     "output_type": "stream",
     "text": [
      "Subject: Application for Machine Learning Engineer - Supply Chain Role\n",
      "\n",
      "Dear Hiring Manager,\n",
      "\n",
      "I came across the Machine Learning Engineer - Supply Chain role at Nike and was excited to see the opportunity to apply my skills and experience in machine learning and data science. With a strong foundation in Python and hands-on experience in developing machine learning models to optimize supply chain operations, I believe I would be a great fit for this role.\n",
      "\n",
      "As a recent graduate with a Master's degree in Data Science, I have developed a strong understanding of machine learning algorithms and data structures. My experience with Python, including packages and frameworks such as Scikit-Learn, TensorFlow, Keras, and langchain, has prepared me to work with large datasets and develop robust models. I have also worked with technologies such as Docker, CI/CD, agile development, and test driven development.\n",
      "\n",
      "I am excited about the opportunity to work with the Artificial Intelligence and Machine Learning team at Nike, designing and implementing scalable applications that leverage prediction models and optimization programs to deliver data-driven decisions. I am confident that my skills and experience make me a strong candidate for this role.\n",
      "\n",
      "Please find my resume attached. I would be thrilled to discuss my application and how I can contribute to the team.\n",
      "\n",
      "Best regards,\n",
      "Praveen S\n"
     ]
    }
   ],
   "source": [
    "chain_email = prompt_email | llm\n",
    "res = chain_email.invoke({\"job_description\": str(json_res), \"pdf_file\": res})\n",
    "print(res.content)"
   ]
  }
 ],
 "metadata": {
  "kernelspec": {
   "display_name": "Python 3",
   "language": "python",
   "name": "python3"
  },
  "language_info": {
   "codemirror_mode": {
    "name": "ipython",
    "version": 3
   },
   "file_extension": ".py",
   "mimetype": "text/x-python",
   "name": "python",
   "nbconvert_exporter": "python",
   "pygments_lexer": "ipython3",
   "version": "3.10.14"
  }
 },
 "nbformat": 4,
 "nbformat_minor": 2
}
