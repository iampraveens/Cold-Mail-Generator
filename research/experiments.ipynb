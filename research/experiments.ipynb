{
 "cells": [
  {
   "cell_type": "code",
   "execution_count": 2,
   "metadata": {},
   "outputs": [],
   "source": [
    "import os\n",
    "from dotenv import load_dotenv\n",
    "from langchain_groq import ChatGroq\n",
    "from langchain_community.document_loaders import PyPDFLoader\n",
    "from langchain.text_splitter import RecursiveCharacterTextSplitter\n",
    "from langchain_community.document_loaders import WebBaseLoader\n",
    "from langchain_core.prompts import PromptTemplate"
   ]
  },
  {
   "cell_type": "code",
   "execution_count": 3,
   "metadata": {},
   "outputs": [],
   "source": [
    "load_dotenv()\n",
    "GROQ_API_KEY = os.environ.get(\"GROQ_API_KEY\")"
   ]
  },
  {
   "cell_type": "code",
   "execution_count": 4,
   "metadata": {},
   "outputs": [],
   "source": [
    "def get_pdf_text(pdf_docs):\n",
    "    loader = PyPDFLoader(file_path=pdf_docs)\n",
    "    pages = loader.load()\n",
    "    return pages"
   ]
  },
  {
   "cell_type": "code",
   "execution_count": 5,
   "metadata": {},
   "outputs": [],
   "source": [
    "def get_text_chunks(pages):\n",
    "    text_splitter = RecursiveCharacterTextSplitter(\n",
    "        chunk_size = 1500, chunk_overlap = 200, \n",
    "        length_function=len, separators=['\\n\\n', '\\n', ' ', '', '.', ',']\n",
    "    )\n",
    "    chunks = text_splitter.split_documents(pages)\n",
    "    \n",
    "    return chunks"
   ]
  },
  {
   "cell_type": "code",
   "execution_count": 6,
   "metadata": {},
   "outputs": [],
   "source": [
    "def get_all_text(chunks_data):\n",
    "    page_contents = []\n",
    "    for chunk in chunks_data:\n",
    "        page_contents.append(chunk.page_content)\n",
    "    return ' '.join(page_contents)"
   ]
  },
  {
   "cell_type": "code",
   "execution_count": 7,
   "metadata": {},
   "outputs": [],
   "source": [
    "def get_pdf_chain(pdf_text):\n",
    "    \n",
    "    prompt_pdf = PromptTemplate.from_template(\n",
    "    \"\"\"\n",
    "    ### Resume Information Extraction\n",
    "\n",
    "    Extract the following information from the provided resume text:\n",
    "\n",
    "    - Name\n",
    "    - Email\n",
    "    - Skills\n",
    "    - Projects\n",
    "\n",
    "    Return the extracted information in a JSON format without any preamble.\n",
    "\n",
    "    Extracted Text: {pdf_text}\n",
    "    \"\"\"\n",
    "    )\n",
    "    \n",
    "    llm = ChatGroq(\n",
    "        temperature=0,\n",
    "        model=\"llama-3.1-70b-versatile\",\n",
    "        api_key=GROQ_API_KEY\n",
    "    )\n",
    "    \n",
    "    chain_pdf = prompt_pdf | llm\n",
    "    result = chain_pdf.invoke(input={'pdf_text': pdf_text})\n",
    "    \n",
    "    return result.content"
   ]
  },
  {
   "cell_type": "code",
   "execution_count": 8,
   "metadata": {},
   "outputs": [],
   "source": [
    "pages = get_pdf_text(pdf_docs=\"Praveen_S_CV.pdf\")\n",
    "chunks = get_text_chunks(pages=pages)\n",
    "pdf_text = get_all_text(chunks_data=chunks)\n",
    "chain_pdf = get_pdf_chain(pdf_text=pdf_text)"
   ]
  },
  {
   "cell_type": "code",
   "execution_count": 11,
   "metadata": {},
   "outputs": [],
   "source": [
    "def get_web_chain(web_text):\n",
    "    \n",
    "    prompt_web = PromptTemplate.from_template(\n",
    "    \"\"\"\n",
    "    ### Job Posting Extraction\n",
    "\n",
    "    Extract the following information from the provided job posting text:\n",
    "\n",
    "    - Role\n",
    "    - Experience\n",
    "    - Skills\n",
    "    - Description\n",
    "\n",
    "    Return the extracted information in a JSON format without any preamble.\n",
    "\n",
    "    Job Posting Text: {web_text}\n",
    "    \"\"\"\n",
    "    )\n",
    "    \n",
    "    llm = ChatGroq(\n",
    "        temperature=0,\n",
    "        model=\"llama-3.1-70b-versatile\",\n",
    "        api_key=GROQ_API_KEY\n",
    "    )\n",
    "    \n",
    "    chain_web = prompt_web | llm\n",
    "    result = chain_web.invoke(input={'web_text': web_text})\n",
    "    \n",
    "    return result.content"
   ]
  },
  {
   "cell_type": "code",
   "execution_count": 24,
   "metadata": {},
   "outputs": [],
   "source": [
    "def get_web_text(url):\n",
    "    loader = WebBaseLoader(web_path=url)\n",
    "    pages_data = loader.load().pop().page_content\n",
    "    return pages_data"
   ]
  },
  {
   "cell_type": "code",
   "execution_count": 59,
   "metadata": {},
   "outputs": [],
   "source": [
    "web_text = get_web_text(url=\"https://sarvm.freshteam.com/jobs/1uuNcm-EuTUd/ai-ml-intern-fresher-remote\")\n",
    "chain_web = get_web_chain(web_text=web_text)"
   ]
  },
  {
   "cell_type": "code",
   "execution_count": 61,
   "metadata": {},
   "outputs": [],
   "source": [
    "def get_email_chain(chain_web, chain_pdf):\n",
    "    \n",
    "    prompt_email = PromptTemplate.from_template(\n",
    "    \"\"\"\n",
    "    ### Cold Email Generation\n",
    "\n",
    "    Generate a cold email to the hiring manager based on the provided job posting and resume information.\n",
    "\n",
    "    Use the following information to generate the email:\n",
    "\n",
    "    Job Posting: {job_description}\n",
    "    Resume Information: {resume_data}\n",
    "\n",
    "    Write a persuasive email that highlights the candidate's skills and experience, and why they are the best fit for the job.\n",
    "\n",
    "    Email should not include any preamble or the candidate's email address.\n",
    "\n",
    "    Returns a well-structured email in plain text format.\n",
    "    \"\"\"\n",
    "    )\n",
    "    \n",
    "    llm = ChatGroq(\n",
    "        temperature=0,\n",
    "        model=\"llama-3.1-70b-versatile\",\n",
    "        api_key=GROQ_API_KEY\n",
    "    )\n",
    "    \n",
    "    chain_email = prompt_email | llm\n",
    "    result = chain_email.invoke(input={'job_description': chain_web, \n",
    "                                       'resume_data': chain_pdf})\n",
    "    \n",
    "    return result.content"
   ]
  },
  {
   "cell_type": "code",
   "execution_count": 62,
   "metadata": {},
   "outputs": [],
   "source": [
    "generator = get_email_chain(chain_web=chain_web, chain_pdf=chain_pdf)"
   ]
  },
  {
   "cell_type": "code",
   "execution_count": 63,
   "metadata": {},
   "outputs": [
    {
     "name": "stdout",
     "output_type": "stream",
     "text": [
      "Subject: Application for AI-ML Intern/Fresher Role\n",
      "\n",
      "Dear Hiring Manager,\n",
      "\n",
      "I am excited to apply for the AI-ML Intern/Fresher position at your organization, as advertised. With a strong passion for artificial intelligence and machine learning, I am confident that my skills and experience make me an ideal candidate for this role.\n",
      "\n",
      "As a proficient Python programmer with expertise in deep learning frameworks such as TensorFlow and Keras, I am well-equipped to handle the responsibilities of this position. My experience with scikit-learn, pandas, and OpenCV has allowed me to develop a strong foundation in data preprocessing, feature engineering, and model development. Additionally, my familiarity with Linux and hardware selection for ML model latency will enable me to optimize model performance and deployment.\n",
      "\n",
      "In my previous projects, I have demonstrated my ability to lead end-to-end machine learning processes, from data collection and preprocessing to model training and deployment. For instance, in my Customer Churn Prediction project, I developed a prediction model using XGBoost, achieving an F1 score of 0.84, and optimized performance through hyperparameter tuning and SMOTE to address class imbalance. Similarly, in my Information Retrieval System project, I developed a PDF-based conversational AI system using LangChain, integrating document retrieval, text chunking, and embedding generation with FAISS for vector storage and conversational retrieval.\n",
      "\n",
      "I am particularly drawn to this role because of the opportunity to work with a team that shares my passion for artificial intelligence and machine learning. I am excited about the prospect of contributing to the development of innovative solutions that extract value from data and drive business growth.\n",
      "\n",
      "Thank you for considering my application. I would welcome the opportunity to discuss my qualifications further and explain in greater detail why I am the best fit for this role. Please feel free to contact me at your convenience.\n",
      "\n",
      "Sincerely,\n",
      "Praveen S\n"
     ]
    }
   ],
   "source": [
    "print(generator)"
   ]
  }
 ],
 "metadata": {
  "kernelspec": {
   "display_name": "Python 3",
   "language": "python",
   "name": "python3"
  },
  "language_info": {
   "codemirror_mode": {
    "name": "ipython",
    "version": 3
   },
   "file_extension": ".py",
   "mimetype": "text/x-python",
   "name": "python",
   "nbconvert_exporter": "python",
   "pygments_lexer": "ipython3",
   "version": "3.10.14"
  }
 },
 "nbformat": 4,
 "nbformat_minor": 2
}
